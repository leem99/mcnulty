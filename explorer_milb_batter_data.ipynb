{
 "cells": [
  {
   "cell_type": "markdown",
   "metadata": {},
   "source": [
    "### Explore Batter Data"
   ]
  },
  {
   "cell_type": "code",
   "execution_count": 129,
   "metadata": {
    "collapsed": true
   },
   "outputs": [],
   "source": [
    "import pandas as pd\n",
    "import numpy as np\n",
    "import seaborn as sns\n",
    "import matplotlib.pyplot as plt\n",
    "from copy import deepcopy\n",
    "\n",
    "#Sklearn\n",
    "from sklearn import preprocessing\n",
    "from sklearn import model_selection\n",
    "from sklearn import linear_model\n",
    "from sklearn import metrics\n",
    "from sklearn import ensemble\n",
    "\n",
    "#Display\n",
    "pd.set_option('display.max_rows',100)\n",
    "pd.set_option('display.max_columns',None)\n",
    "%matplotlib inline"
   ]
  },
  {
   "cell_type": "code",
   "execution_count": 2,
   "metadata": {
    "collapsed": true
   },
   "outputs": [],
   "source": [
    "batter_profiles = pd.read_csv('milb_batter_summaries.csv')\n",
    "batter_seasons = pd.read_csv('milb_all_batter_seasons.csv')"
   ]
  },
  {
   "cell_type": "code",
   "execution_count": 3,
   "metadata": {},
   "outputs": [
    {
     "data": {
      "text/plain": [
       "17525"
      ]
     },
     "execution_count": 3,
     "metadata": {},
     "output_type": "execute_result"
    }
   ],
   "source": [
    "len(batter_profiles.milb_id.unique())"
   ]
  },
  {
   "cell_type": "markdown",
   "metadata": {},
   "source": [
    "__Helper Functions__"
   ]
  },
  {
   "cell_type": "markdown",
   "metadata": {},
   "source": [
    "Add Useful Data Fields"
   ]
  },
  {
   "cell_type": "code",
   "execution_count": 4,
   "metadata": {
    "collapsed": true
   },
   "outputs": [],
   "source": [
    "def add_season_number(df):\n",
    "    first_year = pd.DataFrame()\n",
    "    first_year['FirstYear'] = df.groupby(['milb_id']).min()['Year']\n",
    "    first_year = first_year.reset_index()\n",
    "    df = df.merge(first_year, how = 'outer')\n",
    "    \n",
    "    df['SeasonNumber'] = df['Year'] - df['FirstYear'] + 1\n",
    "    #df = df.drop('First_Year',axis = 1)\n",
    "    return df\n",
    "\n",
    "def add_success_year(df):\n",
    "    success_year = pd.DataFrame()\n",
    "    success_year['FirstYear'] = df.groupby(['milb_id']).min()['Year']\n",
    "    first_year = first_year.reset_index()\n",
    "    df = df.merge(first_year, how = 'outer')\n",
    "    \n",
    "    df['SeasonNumber'] = df['Year'] - df['FirstYear'] + 1\n",
    "    #df = df.drop('First_Year',axis = 1)\n",
    "    return df\n"
   ]
  },
  {
   "cell_type": "markdown",
   "metadata": {},
   "source": [
    "Add Stat Calulation Functions"
   ]
  },
  {
   "cell_type": "code",
   "execution_count": 5,
   "metadata": {
    "collapsed": true
   },
   "outputs": [],
   "source": [
    "## Batting Average\n",
    "# Number of Hits (divided by) Number of At Bats\n",
    "\n",
    "# Calculate the number of single from other hit data\n",
    "def calc_singles(df):\n",
    "    df['1B'] = df['H'] - df['2B'] - df['3B'] - df['HR']\n",
    "    return df\n",
    "\n",
    "def calc_BA(df):\n",
    "    ba_series = df['H']/df['AB']\n",
    "    return ba_series\n",
    "    \n",
    "## Slugging Percentage\n",
    "# Number of (Singles + [2 x Doubles] +[ 3 x Triples] + [4 x Home Runs]) divided by At Bats  \n",
    "def calc_SLG(df):\n",
    "    slg_series = (df['1B'] + 2*df['2B'] + 3*df['3B'] + 4*df['HR']) / df['AB']\n",
    "    return slg_series\n",
    "\n",
    "## On Base Percentage\n",
    "# (Hits + Walks + Hit-By-Pitch) divided by (At Bats + Walks+ Hit-By-Pitch + Sac Flys)\n",
    "def calc_OBP(df):\n",
    "    obp_series = (df['H'] + df['BB'] + df['HBP']) \\\n",
    "        / (df['AB'] + df['BB'] + df['HBP']+df['SF']) \n",
    "    return obp_series\n",
    "\n",
    "## On Base Plus Slugging \n",
    "def calc_OPS(df):\n",
    "     # On Base Plus Slugging \n",
    "    ops_series = calc_OBP(df) + calc_SLG(df)\n",
    "    return ops_series"
   ]
  },
  {
   "cell_type": "markdown",
   "metadata": {},
   "source": [
    "Add Aggregation Function"
   ]
  },
  {
   "cell_type": "code",
   "execution_count": 6,
   "metadata": {
    "collapsed": true
   },
   "outputs": [],
   "source": [
    "# Aggregate year by year stats into full career data.\n",
    "# Requires the recalculation of rate based stats from their definitions.\n",
    "def make_season_stats(df):\n",
    "    \n",
    "    counting_stats = ['G', 'PA', 'AB', 'R', 'H', '2B', '3B', 'HR', 'RBI', 'SB',\n",
    "       'CS', 'BB', 'SO','TB', 'GDP', 'HBP','SH', 'SF', 'IBB']\n",
    "    \n",
    "    \n",
    "    if 'LevNum' in df.columns:\n",
    "        df['LevWeight'] = df['LevNum']*df['PA']\n",
    "    \n",
    "    \n",
    "    # Make groupby object to only do aggregation once\n",
    "    grouped_obj = df.groupby(['milb_id','Year'])\n",
    "    \n",
    "    df_grouped = grouped_obj.sum()\n",
    "    \n",
    "    df_grouped['1B'] = calc_singles(df_grouped)\n",
    "    \n",
    "    # Batting Average \n",
    "    df_grouped['BA'] = calc_BA(df_grouped)\n",
    "    \n",
    "    # On Base Percentage\n",
    "    df_grouped['OBP'] = calc_OBP(df_grouped)\n",
    "    \n",
    "    # Slugging Percentage\n",
    "    df_grouped['SLG'] = calc_SLG(df_grouped)\n",
    "    \n",
    "    # On Base Plus Slugging \n",
    "    df_grouped['OPS'] = calc_OPS(df_grouped)\n",
    "    \n",
    "    # Other BIO \n",
    "    # Fields where max is most important \n",
    "    test_fields = ['Age','FirstYear',\n",
    "                   'SeasonNumber','SuccessYear']\n",
    "    for tf in test_fields:\n",
    "        if tf in df_grouped.columns:\n",
    "            df_grouped[tf] = grouped_obj[tf].max()\n",
    "            \n",
    "    # fields where min is most importand\n",
    "    test_fields2 = ['AgeDif']\n",
    "    for tf in test_fields2:\n",
    "        if tf in df_grouped.columns:\n",
    "            df_grouped[tf] = grouped_obj[tf].min()\n",
    "                  \n",
    "    # Minor League Level Attributs\n",
    "    if 'LevNum' in df.columns:\n",
    "        df_grouped['LevWeighted'] = df_grouped['LevWeight']/df_grouped['PA']\n",
    "        \n",
    "        df_grouped['LevCount'] = grouped_obj.count()['Lev']\n",
    "        df_grouped.drop('LevWeight', axis=1, inplace=True)\n",
    "    \n",
    "    df_grouped.reset_index(inplace=True)\n",
    "    \n",
    "    return df_grouped\n"
   ]
  },
  {
   "cell_type": "markdown",
   "metadata": {},
   "source": [
    "Function for creating rate stats"
   ]
  },
  {
   "cell_type": "code",
   "execution_count": 7,
   "metadata": {
    "collapsed": true
   },
   "outputs": [],
   "source": [
    "def make_rate_stats(df):\n",
    "    \n",
    "    df['HR_rate'] = df['HR']/df['PA']\n",
    "    df['BB_rate'] = df['BB']/df['PA']\n",
    "    df['SO_rate'] = df['SO']/df['PA']\n",
    "    df['IBB_rate'] = df['IBB']/df['PA']\n",
    "    df['SB_rate'] = df['SB']/df['PA'] #None standard definition\n",
    "    df['SB_percentage'] = df['SB']/(df['SB']+df['CS'])\n",
    "    df.loc[np.isnan(df['SB_percentage']),['SB_percentage']] = 0\n",
    "    \n",
    "    df['GDP_rate'] = df['GDP']/df['PA']\n",
    "    df['SH_rate'] = df['SH']/df['PA']\n",
    "    df['SF_rate'] = df['SF']/df['PA']\n",
    "    df['HBP_rate'] = df['HBP']/df['PA']\n",
    "    \n",
    "    \n",
    "    df['SB_percentage']\n",
    "    \n",
    "    return df"
   ]
  },
  {
   "cell_type": "markdown",
   "metadata": {},
   "source": [
    "__Filtering and Aggregation__"
   ]
  },
  {
   "cell_type": "code",
   "execution_count": 105,
   "metadata": {
    "collapsed": true
   },
   "outputs": [],
   "source": [
    "batter_seasons_filt = deepcopy(batter_seasons)\n",
    "\n",
    "# Drop Aggregated Seasons. Will Recompute\n",
    "batter_seasons_filt = batter_seasons_filt[\n",
    "    batter_seasons_filt.Tm.str.contains('Teams') == False]"
   ]
  },
  {
   "cell_type": "code",
   "execution_count": 106,
   "metadata": {
    "collapsed": true
   },
   "outputs": [],
   "source": [
    "# Map Each League to a level\n",
    "lev_dict = {'FRk':0,'Rk':1,'A-':2,'A':3,'A+':4,'AA':5,'AAA':6}\n",
    "level_map = pd.Series(batter_seasons_filt.loc[:,('Lev')].map(lev_dict))\n",
    "batter_seasons_filt['LevNum'] = level_map\n",
    "\n",
    "# Drop Leagues that are \"Atypical\"\n",
    "weird_leagues = ['Ind','Rk','FRk','WRk','FgW','Fal','Fgn','Wtr']\n",
    "batter_seasons_filt = batter_seasons_filt[\n",
    "    batter_seasons_filt['Lev'].isin(weird_leagues) == False]\n",
    "batter_seasons_filt = batter_seasons_filt[\n",
    "    batter_seasons_filt['Lg'] != 'MEX']"
   ]
  },
  {
   "cell_type": "code",
   "execution_count": 78,
   "metadata": {
    "collapsed": true
   },
   "outputs": [],
   "source": [
    "# Remove Players Who had their first season before 1990.\n",
    "batter_seasons_filt = add_season_number(batter_seasons_filt)\n",
    "batter_seasons_filt = batter_seasons_filt[\n",
    "    batter_seasons_filt['FirstYear'] > 1990]\n",
    "\n",
    "batter_seasons_filt = batter_seasons_filt[\n",
    "    batter_seasons_filt['FirstYear'] < 2012]"
   ]
  },
  {
   "cell_type": "code",
   "execution_count": 79,
   "metadata": {
    "collapsed": true
   },
   "outputs": [],
   "source": [
    "# Remove Seasons that occured after player made the majors\n",
    "majors_df = batter_seasons_filt[\n",
    "    batter_seasons_filt.Lev == 'MLB'][['milb_id','Year']]\n",
    "\n",
    "mlb_debuts = majors_df.groupby('milb_id').min().reset_index()\n",
    "mlb_debuts.rename(columns={'Year':'SuccessYear'},inplace=True)\n",
    "\n",
    "batter_seasons_filt = batter_seasons_filt.merge(\n",
    "    mlb_debuts, how = 'left',on= 'milb_id')\n",
    "\n",
    "batter_seasons_filt = batter_seasons_filt[\n",
    "    (batter_seasons_filt['SuccessYear'] > batter_seasons_filt['Year']) | \n",
    "    pd.isnull(batter_seasons_filt['SuccessYear'])] \n"
   ]
  },
  {
   "cell_type": "code",
   "execution_count": 80,
   "metadata": {
    "collapsed": true
   },
   "outputs": [],
   "source": [
    "batter_seasons_total = make_season_stats(batter_seasons_filt)\n",
    "batter_seasons_total = make_rate_stats(batter_seasons_total)"
   ]
  },
  {
   "cell_type": "code",
   "execution_count": 81,
   "metadata": {},
   "outputs": [],
   "source": [
    "## Add dependent variable\n",
    "batter_seasons_total = batter_seasons_total.merge(\n",
    "    batter_profiles.loc[:,['milb_id','mlb']],\n",
    "    how = 'left',\n",
    "    on = 'milb_id')"
   ]
  },
  {
   "cell_type": "code",
   "execution_count": 82,
   "metadata": {},
   "outputs": [],
   "source": [
    "bst_test = deepcopy(batter_seasons_total)"
   ]
  },
  {
   "cell_type": "code",
   "execution_count": 83,
   "metadata": {},
   "outputs": [],
   "source": [
    "bst_test = bst_test.loc[bst_test['SeasonNumber'] == 2,:]\n",
    "bst_test = bst_test.loc[bst_test['PA'] > 150,:]"
   ]
  },
  {
   "cell_type": "markdown",
   "metadata": {},
   "source": [
    "### Model Stuff"
   ]
  },
  {
   "cell_type": "code",
   "execution_count": 84,
   "metadata": {},
   "outputs": [],
   "source": [
    "test_cols = ['milb_id','LevWeighted','AgeDif','PA',\n",
    "             'BA','OBP','SLG','HR_rate',\n",
    "             'BB_rate','SO_rate','IBB_rate',\n",
    "             'SB_rate','SB_percentage','GDP_rate',\n",
    "             'SH_rate','HBP_rate']\n",
    "\n",
    "X1 = bst_test.loc[:,test_cols]\n",
    "y1 = bst_test.loc[:,['mlb']]"
   ]
  },
  {
   "cell_type": "code",
   "execution_count": 85,
   "metadata": {},
   "outputs": [
    {
     "data": {
      "text/plain": [
       "array([ 0.24835041])"
      ]
     },
     "execution_count": 85,
     "metadata": {},
     "output_type": "execute_result"
    }
   ],
   "source": [
    "# Baseline Prediction\n",
    "#sum(y1)/len(y1)\n",
    "baseline1 = sum(y1.values)/len(y1.values)\n",
    "baseline1"
   ]
  },
  {
   "cell_type": "code",
   "execution_count": 98,
   "metadata": {
    "collapsed": true
   },
   "outputs": [],
   "source": [
    "X1_train, X1_test, y1_train, y1_test = model_selection.train_test_split(\n",
    "    X1, y1, test_size=0.3)"
   ]
  },
  {
   "cell_type": "code",
   "execution_count": 99,
   "metadata": {},
   "outputs": [
    {
     "name": "stderr",
     "output_type": "stream",
     "text": [
      "/anaconda/lib/python3.6/site-packages/sklearn/utils/validation.py:526: DataConversionWarning: A column-vector y was passed when a 1d array was expected. Please change the shape of y to (n_samples, ), for example using ravel().\n",
      "  y = column_or_1d(y, warn=True)\n"
     ]
    }
   ],
   "source": [
    "lm1 = linear_model.LogisticRegression()\n",
    "lm1.fit(X1_train.iloc[:,1:],y1_train)\n",
    "pred_proba1 = lm1.predict_proba(X1_test.iloc[:,1:])"
   ]
  },
  {
   "cell_type": "code",
   "execution_count": 108,
   "metadata": {},
   "outputs": [
    {
     "data": {
      "text/plain": [
       "0.40460628437885288"
      ]
     },
     "execution_count": 108,
     "metadata": {},
     "output_type": "execute_result"
    }
   ],
   "source": [
    "metrics.log_loss(y1_test,pred_proba1)"
   ]
  },
  {
   "cell_type": "code",
   "execution_count": 124,
   "metadata": {},
   "outputs": [
    {
     "name": "stdout",
     "output_type": "stream",
     "text": [
      "0.80767430978\n"
     ]
    }
   ],
   "source": [
    "# Accuracy\n",
    "print(metrics.accuracy_score(y1_test,np.round(pred_proba1[:,1])))"
   ]
  },
  {
   "cell_type": "code",
   "execution_count": 128,
   "metadata": {},
   "outputs": [
    {
     "data": {
      "text/plain": [
       "(array([ 0.83904867,  0.63525836]),\n",
       " array([ 0.92669517,  0.418     ]),\n",
       " array([ 0.88069666,  0.50422195]),\n",
       " array([1637,  500]))"
      ]
     },
     "execution_count": 128,
     "metadata": {},
     "output_type": "execute_result"
    }
   ],
   "source": [
    "metrics.precision_recall_fscore_support(y1_test,np.round(pred_proba1[:,1]),labels = [0,1])"
   ]
  },
  {
   "cell_type": "code",
   "execution_count": 100,
   "metadata": {},
   "outputs": [],
   "source": [
    "pred_proba_df = pd.DataFrame(pred_proba1,index = X1_test.index)"
   ]
  },
  {
   "cell_type": "code",
   "execution_count": 101,
   "metadata": {},
   "outputs": [],
   "source": [
    "pred_proba_df['id'] = X1_test['milb_id']\n",
    "pred_proba_df['truth'] = y1_test\n",
    "pred_proba_df.sort_values(1,ascending = False)"
   ]
  },
  {
   "cell_type": "code",
   "execution_count": 104,
   "metadata": {},
   "outputs": [],
   "source": [
    "#pred_proba_df.sort_values(1,ascending=False)"
   ]
  },
  {
   "cell_type": "code",
   "execution_count": 93,
   "metadata": {},
   "outputs": [],
   "source": [
    "prec, recall, thresholds = metrics.precision_recall_curve(\n",
    "    y1_test,pred_proba1[:,1])"
   ]
  },
  {
   "cell_type": "code",
   "execution_count": 94,
   "metadata": {},
   "outputs": [
    {
     "data": {
      "text/plain": [
       "<matplotlib.text.Text at 0x10fd7efd0>"
      ]
     },
     "execution_count": 94,
     "metadata": {},
     "output_type": "execute_result"
    },
    {
     "data": {
      "image/png": "[encoded data removed]",
      "text/plain": [
       "<matplotlib.figure.Figure at 0x10e88aef0>"
      ]
     },
     "metadata": {},
     "output_type": "display_data"
    }
   ],
   "source": [
    "plt.plot(prec[0:-1], recall[0:-1])\n",
    "plt.xlabel('Precision')\n",
    "plt.ylabel('Recall')\n",
    "plt.title('Logistic Regression: Attempt 1')"
   ]
  },
  {
   "cell_type": "code",
   "execution_count": 95,
   "metadata": {},
   "outputs": [
    {
     "data": {
      "text/plain": [
       "[<matplotlib.lines.Line2D at 0x10fd97080>]"
      ]
     },
     "execution_count": 95,
     "metadata": {},
     "output_type": "execute_result"
    },
    {
     "data": {
      "image/png": "[encoded data removed]",
      "text/plain": [
       "<matplotlib.figure.Figure at 0x10fd97550>"
      ]
     },
     "metadata": {},
     "output_type": "display_data"
    }
   ],
   "source": [
    "fpr, tpr, thresholds = metrics.roc_curve(y1_test,pred_proba1[:,1])\n",
    "plt.plot(fpr, tpr)\n",
    "plt.plot(np.linspace(0,1,100),np.linspace(0,1,100))"
   ]
  },
  {
   "cell_type": "code",
   "execution_count": 136,
   "metadata": {},
   "outputs": [
    {
     "data": {
      "image/png": "[encoded data removed]",
      "text/plain": [
       "<matplotlib.figure.Figure at 0x1106ca470>"
      ]
     },
     "metadata": {},
     "output_type": "display_data"
    }
   ],
   "source": [
    "f_Series = pd.Series(lm1.coef_[0],index = X1.columns[1:]).sort_values()\n",
    "\n",
    "plt.figure(figsize=(14, 4))\n",
    "g = sns.barplot(x = f_Series.index,y = f_Series)\n",
    "g.set_xticklabels(f_Series.index, rotation=-30,size=12)\n",
    "plt.ylabel('Feature Importance',size=14);\n",
    "plt.xlabel('Feasture',size=14);\n"
   ]
  },
  {
   "cell_type": "code",
   "execution_count": 131,
   "metadata": {},
   "outputs": [
    {
     "name": "stderr",
     "output_type": "stream",
     "text": [
      "/anaconda/lib/python3.6/site-packages/ipykernel_launcher.py:2: DataConversionWarning: A column-vector y was passed when a 1d array was expected. Please change the shape of y to (n_samples,), for example using ravel().\n",
      "  \n"
     ]
    }
   ],
   "source": [
    "rf1 = ensemble.RandomForestClassifier()\n",
    "rf1.fit(X1_train.iloc[:,1:],y1_train)\n",
    "pred_proba_rf1 = rf1.predict_proba(X1_test.iloc[:,1:])"
   ]
  },
  {
   "cell_type": "code",
   "execution_count": 132,
   "metadata": {},
   "outputs": [
    {
     "data": {
      "text/plain": [
       "(array([ 0.83524904,  0.64193548]),\n",
       " array([ 0.93219304,  0.398     ]),\n",
       " array([ 0.88106236,  0.49135802]),\n",
       " array([1637,  500]))"
      ]
     },
     "execution_count": 132,
     "metadata": {},
     "output_type": "execute_result"
    }
   ],
   "source": [
    "metrics.precision_recall_fscore_support(y1_test,np.round(pred_proba_rf1[:,1]),labels = [0,1])"
   ]
  },
  {
   "cell_type": "code",
   "execution_count": 133,
   "metadata": {
    "collapsed": true
   },
   "outputs": [],
   "source": [
    "prec, recall, thresholds = metrics.precision_recall_curve(\n",
    "    y1_test,pred_proba1[:,1])"
   ]
  },
  {
   "cell_type": "code",
   "execution_count": 135,
   "metadata": {},
   "outputs": [
    {
     "data": {
      "text/plain": [
       "<matplotlib.text.Text at 0x1106482e8>"
      ]
     },
     "execution_count": 135,
     "metadata": {},
     "output_type": "execute_result"
    },
    {
     "data": {
      "image/png": "[encoded data removed]",
      "text/plain": [
       "<matplotlib.figure.Figure at 0x10f2690f0>"
      ]
     },
     "metadata": {},
     "output_type": "display_data"
    }
   ],
   "source": [
    "plt.plot(prec[0:-1], recall[0:-1])\n",
    "plt.xlabel('Precision')\n",
    "plt.ylabel('Recall')\n",
    "plt.title('RF: Attempt 1')"
   ]
  },
  {
   "cell_type": "code",
   "execution_count": 139,
   "metadata": {},
   "outputs": [
    {
     "data": {
      "image/png": "[encoded data removed]",
      "text/plain": [
       "<matplotlib.figure.Figure at 0x10dbd0320>"
      ]
     },
     "metadata": {},
     "output_type": "display_data"
    }
   ],
   "source": [
    "f_Series = pd.Series(rf1.feature_importances_,index = X1.columns[1:]).sort_values()\n",
    "\n",
    "plt.figure(figsize=(14, 4))\n",
    "g = sns.barplot(x = f_Series.index,y = f_Series)\n",
    "g.set_xticklabels(f_Series.index, rotation=-30,size=12)\n",
    "plt.ylabel('Feature Importance',size=14);\n",
    "plt.xlabel('Feasture',size=14);"
   ]
  },
  {
   "cell_type": "code",
   "execution_count": 141,
   "metadata": {},
   "outputs": [
    {
     "data": {
      "text/html": [
       "<div>\n",
       "<style>\n",
       "    .dataframe thead tr:only-child th {\n",
       "        text-align: right;\n",
       "    }\n",
       "\n",
       "    .dataframe thead th {\n",
       "        text-align: left;\n",
       "    }\n",
       "\n",
       "    .dataframe tbody tr th {\n",
       "        vertical-align: top;\n",
       "    }\n",
       "</style>\n",
       "<table border=\"1\" class=\"dataframe\">\n",
       "  <thead>\n",
       "    <tr style=\"text-align: right;\">\n",
       "      <th></th>\n",
       "      <th>0</th>\n",
       "      <th>1</th>\n",
       "      <th>id</th>\n",
       "      <th>truth</th>\n",
       "    </tr>\n",
       "  </thead>\n",
       "  <tbody>\n",
       "    <tr>\n",
       "      <th>24157</th>\n",
       "      <td>0.0</td>\n",
       "      <td>1.0</td>\n",
       "      <td>navarr001dio</td>\n",
       "      <td>1</td>\n",
       "    </tr>\n",
       "    <tr>\n",
       "      <th>21303</th>\n",
       "      <td>0.0</td>\n",
       "      <td>1.0</td>\n",
       "      <td>mathis001jef</td>\n",
       "      <td>1</td>\n",
       "    </tr>\n",
       "    <tr>\n",
       "      <th>8445</th>\n",
       "      <td>0.0</td>\n",
       "      <td>1.0</td>\n",
       "      <td>delluc001dav</td>\n",
       "      <td>1</td>\n",
       "    </tr>\n",
       "    <tr>\n",
       "      <th>19610</th>\n",
       "      <td>0.0</td>\n",
       "      <td>1.0</td>\n",
       "      <td>lockwo001mic</td>\n",
       "      <td>0</td>\n",
       "    </tr>\n",
       "    <tr>\n",
       "      <th>5231</th>\n",
       "      <td>0.0</td>\n",
       "      <td>1.0</td>\n",
       "      <td>caruso001mic</td>\n",
       "      <td>1</td>\n",
       "    </tr>\n",
       "    <tr>\n",
       "      <th>33427</th>\n",
       "      <td>0.0</td>\n",
       "      <td>1.0</td>\n",
       "      <td>swishe001nic</td>\n",
       "      <td>1</td>\n",
       "    </tr>\n",
       "    <tr>\n",
       "      <th>6145</th>\n",
       "      <td>0.0</td>\n",
       "      <td>1.0</td>\n",
       "      <td>cirill001jef</td>\n",
       "      <td>1</td>\n",
       "    </tr>\n",
       "    <tr>\n",
       "      <th>19746</th>\n",
       "      <td>0.0</td>\n",
       "      <td>1.0</td>\n",
       "      <td>longor001eva</td>\n",
       "      <td>1</td>\n",
       "    </tr>\n",
       "    <tr>\n",
       "      <th>1344</th>\n",
       "      <td>0.0</td>\n",
       "      <td>1.0</td>\n",
       "      <td>aubrey001rob</td>\n",
       "      <td>1</td>\n",
       "    </tr>\n",
       "    <tr>\n",
       "      <th>20407</th>\n",
       "      <td>0.0</td>\n",
       "      <td>1.0</td>\n",
       "      <td>magee001wen</td>\n",
       "      <td>1</td>\n",
       "    </tr>\n",
       "    <tr>\n",
       "      <th>35966</th>\n",
       "      <td>0.0</td>\n",
       "      <td>1.0</td>\n",
       "      <td>watkin003wil</td>\n",
       "      <td>1</td>\n",
       "    </tr>\n",
       "    <tr>\n",
       "      <th>14535</th>\n",
       "      <td>0.0</td>\n",
       "      <td>1.0</td>\n",
       "      <td>harris001bre</td>\n",
       "      <td>1</td>\n",
       "    </tr>\n",
       "    <tr>\n",
       "      <th>15424</th>\n",
       "      <td>0.0</td>\n",
       "      <td>1.0</td>\n",
       "      <td>higgin003rob</td>\n",
       "      <td>1</td>\n",
       "    </tr>\n",
       "    <tr>\n",
       "      <th>14677</th>\n",
       "      <td>0.0</td>\n",
       "      <td>1.0</td>\n",
       "      <td>hartma001ron</td>\n",
       "      <td>0</td>\n",
       "    </tr>\n",
       "    <tr>\n",
       "      <th>18305</th>\n",
       "      <td>0.0</td>\n",
       "      <td>1.0</td>\n",
       "      <td>kottar001geo</td>\n",
       "      <td>1</td>\n",
       "    </tr>\n",
       "    <tr>\n",
       "      <th>18579</th>\n",
       "      <td>0.0</td>\n",
       "      <td>1.0</td>\n",
       "      <td>lamb001mic</td>\n",
       "      <td>1</td>\n",
       "    </tr>\n",
       "    <tr>\n",
       "      <th>21073</th>\n",
       "      <td>0.1</td>\n",
       "      <td>0.9</td>\n",
       "      <td>martin005jul</td>\n",
       "      <td>1</td>\n",
       "    </tr>\n",
       "    <tr>\n",
       "      <th>2216</th>\n",
       "      <td>0.1</td>\n",
       "      <td>0.9</td>\n",
       "      <td>belk001tim</td>\n",
       "      <td>1</td>\n",
       "    </tr>\n",
       "    <tr>\n",
       "      <th>1765</th>\n",
       "      <td>0.1</td>\n",
       "      <td>0.9</td>\n",
       "      <td>barfie001jos</td>\n",
       "      <td>1</td>\n",
       "    </tr>\n",
       "    <tr>\n",
       "      <th>12450</th>\n",
       "      <td>0.1</td>\n",
       "      <td>0.9</td>\n",
       "      <td>giavot001joh</td>\n",
       "      <td>1</td>\n",
       "    </tr>\n",
       "    <tr>\n",
       "      <th>12456</th>\n",
       "      <td>0.1</td>\n",
       "      <td>0.9</td>\n",
       "      <td>gibbon001jay</td>\n",
       "      <td>1</td>\n",
       "    </tr>\n",
       "    <tr>\n",
       "      <th>13710</th>\n",
       "      <td>0.1</td>\n",
       "      <td>0.9</td>\n",
       "      <td>guerre001wil</td>\n",
       "      <td>1</td>\n",
       "    </tr>\n",
       "    <tr>\n",
       "      <th>26228</th>\n",
       "      <td>0.1</td>\n",
       "      <td>0.9</td>\n",
       "      <td>perez001dan</td>\n",
       "      <td>1</td>\n",
       "    </tr>\n",
       "    <tr>\n",
       "      <th>17719</th>\n",
       "      <td>0.1</td>\n",
       "      <td>0.9</td>\n",
       "      <td>kemp001mat</td>\n",
       "      <td>1</td>\n",
       "    </tr>\n",
       "    <tr>\n",
       "      <th>27573</th>\n",
       "      <td>0.1</td>\n",
       "      <td>0.9</td>\n",
       "      <td>rahl001chr</td>\n",
       "      <td>0</td>\n",
       "    </tr>\n",
       "    <tr>\n",
       "      <th>14769</th>\n",
       "      <td>0.1</td>\n",
       "      <td>0.9</td>\n",
       "      <td>haverb001kev</td>\n",
       "      <td>0</td>\n",
       "    </tr>\n",
       "    <tr>\n",
       "      <th>18796</th>\n",
       "      <td>0.1</td>\n",
       "      <td>0.9</td>\n",
       "      <td>larocc001gre</td>\n",
       "      <td>1</td>\n",
       "    </tr>\n",
       "    <tr>\n",
       "      <th>36046</th>\n",
       "      <td>0.1</td>\n",
       "      <td>0.9</td>\n",
       "      <td>webb001don</td>\n",
       "      <td>0</td>\n",
       "    </tr>\n",
       "    <tr>\n",
       "      <th>13029</th>\n",
       "      <td>0.1</td>\n",
       "      <td>0.9</td>\n",
       "      <td>gonzal004ale</td>\n",
       "      <td>1</td>\n",
       "    </tr>\n",
       "    <tr>\n",
       "      <th>28643</th>\n",
       "      <td>0.1</td>\n",
       "      <td>0.9</td>\n",
       "      <td>rivera003jua</td>\n",
       "      <td>1</td>\n",
       "    </tr>\n",
       "    <tr>\n",
       "      <th>5987</th>\n",
       "      <td>0.1</td>\n",
       "      <td>0.9</td>\n",
       "      <td>cholow001dan</td>\n",
       "      <td>0</td>\n",
       "    </tr>\n",
       "    <tr>\n",
       "      <th>18167</th>\n",
       "      <td>0.1</td>\n",
       "      <td>0.9</td>\n",
       "      <td>knott001jon</td>\n",
       "      <td>1</td>\n",
       "    </tr>\n",
       "    <tr>\n",
       "      <th>3411</th>\n",
       "      <td>0.1</td>\n",
       "      <td>0.9</td>\n",
       "      <td>boyd001sha</td>\n",
       "      <td>0</td>\n",
       "    </tr>\n",
       "    <tr>\n",
       "      <th>8707</th>\n",
       "      <td>0.1</td>\n",
       "      <td>0.9</td>\n",
       "      <td>dewey001jas</td>\n",
       "      <td>0</td>\n",
       "    </tr>\n",
       "    <tr>\n",
       "      <th>5176</th>\n",
       "      <td>0.1</td>\n",
       "      <td>0.9</td>\n",
       "      <td>carter001ver</td>\n",
       "      <td>1</td>\n",
       "    </tr>\n",
       "    <tr>\n",
       "      <th>17276</th>\n",
       "      <td>0.1</td>\n",
       "      <td>0.9</td>\n",
       "      <td>jones005lar</td>\n",
       "      <td>1</td>\n",
       "    </tr>\n",
       "    <tr>\n",
       "      <th>15704</th>\n",
       "      <td>0.1</td>\n",
       "      <td>0.9</td>\n",
       "      <td>hollid001mat</td>\n",
       "      <td>1</td>\n",
       "    </tr>\n",
       "    <tr>\n",
       "      <th>26490</th>\n",
       "      <td>0.1</td>\n",
       "      <td>0.9</td>\n",
       "      <td>peters001bry</td>\n",
       "      <td>1</td>\n",
       "    </tr>\n",
       "    <tr>\n",
       "      <th>4434</th>\n",
       "      <td>0.1</td>\n",
       "      <td>0.9</td>\n",
       "      <td>butler001bil</td>\n",
       "      <td>1</td>\n",
       "    </tr>\n",
       "    <tr>\n",
       "      <th>19402</th>\n",
       "      <td>0.1</td>\n",
       "      <td>0.9</td>\n",
       "      <td>lillib001bre</td>\n",
       "      <td>1</td>\n",
       "    </tr>\n",
       "    <tr>\n",
       "      <th>1005</th>\n",
       "      <td>0.1</td>\n",
       "      <td>0.9</td>\n",
       "      <td>antone001mat</td>\n",
       "      <td>1</td>\n",
       "    </tr>\n",
       "    <tr>\n",
       "      <th>1098</th>\n",
       "      <td>0.1</td>\n",
       "      <td>0.9</td>\n",
       "      <td>arcia001osw</td>\n",
       "      <td>1</td>\n",
       "    </tr>\n",
       "    <tr>\n",
       "      <th>26605</th>\n",
       "      <td>0.1</td>\n",
       "      <td>0.9</td>\n",
       "      <td>philli001bra</td>\n",
       "      <td>1</td>\n",
       "    </tr>\n",
       "    <tr>\n",
       "      <th>17523</th>\n",
       "      <td>0.1</td>\n",
       "      <td>0.9</td>\n",
       "      <td>kapler001gab</td>\n",
       "      <td>1</td>\n",
       "    </tr>\n",
       "    <tr>\n",
       "      <th>16745</th>\n",
       "      <td>0.1</td>\n",
       "      <td>0.9</td>\n",
       "      <td>jeter001der</td>\n",
       "      <td>1</td>\n",
       "    </tr>\n",
       "    <tr>\n",
       "      <th>15442</th>\n",
       "      <td>0.1</td>\n",
       "      <td>0.9</td>\n",
       "      <td>hill001aar</td>\n",
       "      <td>1</td>\n",
       "    </tr>\n",
       "    <tr>\n",
       "      <th>34225</th>\n",
       "      <td>0.1</td>\n",
       "      <td>0.9</td>\n",
       "      <td>tomlin001jam</td>\n",
       "      <td>0</td>\n",
       "    </tr>\n",
       "    <tr>\n",
       "      <th>866</th>\n",
       "      <td>0.1</td>\n",
       "      <td>0.9</td>\n",
       "      <td>anders002lar</td>\n",
       "      <td>1</td>\n",
       "    </tr>\n",
       "    <tr>\n",
       "      <th>32954</th>\n",
       "      <td>0.1</td>\n",
       "      <td>0.9</td>\n",
       "      <td>still001jon</td>\n",
       "      <td>0</td>\n",
       "    </tr>\n",
       "    <tr>\n",
       "      <th>4013</th>\n",
       "      <td>0.1</td>\n",
       "      <td>0.9</td>\n",
       "      <td>bruce001jay</td>\n",
       "      <td>1</td>\n",
       "    </tr>\n",
       "    <tr>\n",
       "      <th>...</th>\n",
       "      <td>...</td>\n",
       "      <td>...</td>\n",
       "      <td>...</td>\n",
       "      <td>...</td>\n",
       "    </tr>\n",
       "    <tr>\n",
       "      <th>28204</th>\n",
       "      <td>1.0</td>\n",
       "      <td>0.0</td>\n",
       "      <td>reynol001lag</td>\n",
       "      <td>0</td>\n",
       "    </tr>\n",
       "    <tr>\n",
       "      <th>22929</th>\n",
       "      <td>1.0</td>\n",
       "      <td>0.0</td>\n",
       "      <td>mitche001tod</td>\n",
       "      <td>0</td>\n",
       "    </tr>\n",
       "    <tr>\n",
       "      <th>33286</th>\n",
       "      <td>1.0</td>\n",
       "      <td>0.0</td>\n",
       "      <td>suomi001joh</td>\n",
       "      <td>0</td>\n",
       "    </tr>\n",
       "    <tr>\n",
       "      <th>20801</th>\n",
       "      <td>1.0</td>\n",
       "      <td>0.0</td>\n",
       "      <td>marsh001jas</td>\n",
       "      <td>0</td>\n",
       "    </tr>\n",
       "    <tr>\n",
       "      <th>8404</th>\n",
       "      <td>1.0</td>\n",
       "      <td>0.0</td>\n",
       "      <td>deleon003san</td>\n",
       "      <td>0</td>\n",
       "    </tr>\n",
       "    <tr>\n",
       "      <th>7633</th>\n",
       "      <td>1.0</td>\n",
       "      <td>0.0</td>\n",
       "      <td>curran001chr</td>\n",
       "      <td>0</td>\n",
       "    </tr>\n",
       "    <tr>\n",
       "      <th>4569</th>\n",
       "      <td>1.0</td>\n",
       "      <td>0.0</td>\n",
       "      <td>cabrer001leo</td>\n",
       "      <td>0</td>\n",
       "    </tr>\n",
       "    <tr>\n",
       "      <th>7691</th>\n",
       "      <td>1.0</td>\n",
       "      <td>0.0</td>\n",
       "      <td>curtis007joh</td>\n",
       "      <td>0</td>\n",
       "    </tr>\n",
       "    <tr>\n",
       "      <th>25190</th>\n",
       "      <td>1.0</td>\n",
       "      <td>0.0</td>\n",
       "      <td>orloff001ben</td>\n",
       "      <td>0</td>\n",
       "    </tr>\n",
       "    <tr>\n",
       "      <th>4987</th>\n",
       "      <td>1.0</td>\n",
       "      <td>0.0</td>\n",
       "      <td>carey001tim</td>\n",
       "      <td>0</td>\n",
       "    </tr>\n",
       "    <tr>\n",
       "      <th>14015</th>\n",
       "      <td>1.0</td>\n",
       "      <td>0.0</td>\n",
       "      <td>haase001jef</td>\n",
       "      <td>0</td>\n",
       "    </tr>\n",
       "    <tr>\n",
       "      <th>22328</th>\n",
       "      <td>1.0</td>\n",
       "      <td>0.0</td>\n",
       "      <td>mende001sam</td>\n",
       "      <td>0</td>\n",
       "    </tr>\n",
       "    <tr>\n",
       "      <th>13954</th>\n",
       "      <td>1.0</td>\n",
       "      <td>0.0</td>\n",
       "      <td>guzman003fra</td>\n",
       "      <td>0</td>\n",
       "    </tr>\n",
       "    <tr>\n",
       "      <th>11054</th>\n",
       "      <td>1.0</td>\n",
       "      <td>0.0</td>\n",
       "      <td>flores004jes</td>\n",
       "      <td>1</td>\n",
       "    </tr>\n",
       "    <tr>\n",
       "      <th>1215</th>\n",
       "      <td>1.0</td>\n",
       "      <td>0.0</td>\n",
       "      <td>arntze001bri</td>\n",
       "      <td>0</td>\n",
       "    </tr>\n",
       "    <tr>\n",
       "      <th>24990</th>\n",
       "      <td>1.0</td>\n",
       "      <td>0.0</td>\n",
       "      <td>ohearn001bra</td>\n",
       "      <td>0</td>\n",
       "    </tr>\n",
       "    <tr>\n",
       "      <th>23815</th>\n",
       "      <td>1.0</td>\n",
       "      <td>0.0</td>\n",
       "      <td>mullin001jac</td>\n",
       "      <td>0</td>\n",
       "    </tr>\n",
       "    <tr>\n",
       "      <th>32580</th>\n",
       "      <td>1.0</td>\n",
       "      <td>0.0</td>\n",
       "      <td>spatol001joh</td>\n",
       "      <td>0</td>\n",
       "    </tr>\n",
       "    <tr>\n",
       "      <th>14103</th>\n",
       "      <td>1.0</td>\n",
       "      <td>0.0</td>\n",
       "      <td>halema001jos</td>\n",
       "      <td>0</td>\n",
       "    </tr>\n",
       "    <tr>\n",
       "      <th>36478</th>\n",
       "      <td>1.0</td>\n",
       "      <td>0.0</td>\n",
       "      <td>wiese001bri</td>\n",
       "      <td>0</td>\n",
       "    </tr>\n",
       "    <tr>\n",
       "      <th>3148</th>\n",
       "      <td>1.0</td>\n",
       "      <td>0.0</td>\n",
       "      <td>booker001kev</td>\n",
       "      <td>0</td>\n",
       "    </tr>\n",
       "    <tr>\n",
       "      <th>19756</th>\n",
       "      <td>1.0</td>\n",
       "      <td>0.0</td>\n",
       "      <td>loomis001geo</td>\n",
       "      <td>0</td>\n",
       "    </tr>\n",
       "    <tr>\n",
       "      <th>36444</th>\n",
       "      <td>1.0</td>\n",
       "      <td>0.0</td>\n",
       "      <td>whitta001tim</td>\n",
       "      <td>0</td>\n",
       "    </tr>\n",
       "    <tr>\n",
       "      <th>8594</th>\n",
       "      <td>1.0</td>\n",
       "      <td>0.0</td>\n",
       "      <td>depast001jos</td>\n",
       "      <td>1</td>\n",
       "    </tr>\n",
       "    <tr>\n",
       "      <th>8947</th>\n",
       "      <td>1.0</td>\n",
       "      <td>0.0</td>\n",
       "      <td>dipace002dan</td>\n",
       "      <td>0</td>\n",
       "    </tr>\n",
       "    <tr>\n",
       "      <th>34796</th>\n",
       "      <td>1.0</td>\n",
       "      <td>0.0</td>\n",
       "      <td>unrat001chr</td>\n",
       "      <td>0</td>\n",
       "    </tr>\n",
       "    <tr>\n",
       "      <th>35389</th>\n",
       "      <td>1.0</td>\n",
       "      <td>0.0</td>\n",
       "      <td>vidal001car</td>\n",
       "      <td>0</td>\n",
       "    </tr>\n",
       "    <tr>\n",
       "      <th>29865</th>\n",
       "      <td>1.0</td>\n",
       "      <td>0.0</td>\n",
       "      <td>rumfie001jus</td>\n",
       "      <td>0</td>\n",
       "    </tr>\n",
       "    <tr>\n",
       "      <th>12331</th>\n",
       "      <td>1.0</td>\n",
       "      <td>0.0</td>\n",
       "      <td>geisle001phi</td>\n",
       "      <td>0</td>\n",
       "    </tr>\n",
       "    <tr>\n",
       "      <th>14555</th>\n",
       "      <td>1.0</td>\n",
       "      <td>0.0</td>\n",
       "      <td>harris001dem</td>\n",
       "      <td>0</td>\n",
       "    </tr>\n",
       "    <tr>\n",
       "      <th>4714</th>\n",
       "      <td>1.0</td>\n",
       "      <td>0.0</td>\n",
       "      <td>camare001jos</td>\n",
       "      <td>0</td>\n",
       "    </tr>\n",
       "    <tr>\n",
       "      <th>6812</th>\n",
       "      <td>1.0</td>\n",
       "      <td>0.0</td>\n",
       "      <td>cook005jos</td>\n",
       "      <td>0</td>\n",
       "    </tr>\n",
       "    <tr>\n",
       "      <th>9100</th>\n",
       "      <td>1.0</td>\n",
       "      <td>0.0</td>\n",
       "      <td>donald001rho</td>\n",
       "      <td>0</td>\n",
       "    </tr>\n",
       "    <tr>\n",
       "      <th>22606</th>\n",
       "      <td>1.0</td>\n",
       "      <td>0.0</td>\n",
       "      <td>meyer001tra</td>\n",
       "      <td>0</td>\n",
       "    </tr>\n",
       "    <tr>\n",
       "      <th>10079</th>\n",
       "      <td>1.0</td>\n",
       "      <td>0.0</td>\n",
       "      <td>espada001ang</td>\n",
       "      <td>0</td>\n",
       "    </tr>\n",
       "    <tr>\n",
       "      <th>9070</th>\n",
       "      <td>1.0</td>\n",
       "      <td>0.0</td>\n",
       "      <td>domini001and</td>\n",
       "      <td>1</td>\n",
       "    </tr>\n",
       "    <tr>\n",
       "      <th>18066</th>\n",
       "      <td>1.0</td>\n",
       "      <td>0.0</td>\n",
       "      <td>kison001rob</td>\n",
       "      <td>0</td>\n",
       "    </tr>\n",
       "    <tr>\n",
       "      <th>13464</th>\n",
       "      <td>1.0</td>\n",
       "      <td>0.0</td>\n",
       "      <td>gresha001kri</td>\n",
       "      <td>0</td>\n",
       "    </tr>\n",
       "    <tr>\n",
       "      <th>1816</th>\n",
       "      <td>1.0</td>\n",
       "      <td>0.0</td>\n",
       "      <td>barnes001ave</td>\n",
       "      <td>0</td>\n",
       "    </tr>\n",
       "    <tr>\n",
       "      <th>24687</th>\n",
       "      <td>1.0</td>\n",
       "      <td>0.0</td>\n",
       "      <td>norris001sha</td>\n",
       "      <td>0</td>\n",
       "    </tr>\n",
       "    <tr>\n",
       "      <th>12426</th>\n",
       "      <td>1.0</td>\n",
       "      <td>0.0</td>\n",
       "      <td>gholst001ric</td>\n",
       "      <td>0</td>\n",
       "    </tr>\n",
       "    <tr>\n",
       "      <th>9104</th>\n",
       "      <td>1.0</td>\n",
       "      <td>0.0</td>\n",
       "      <td>donati001joh</td>\n",
       "      <td>0</td>\n",
       "    </tr>\n",
       "    <tr>\n",
       "      <th>29093</th>\n",
       "      <td>1.0</td>\n",
       "      <td>0.0</td>\n",
       "      <td>rodrig002and</td>\n",
       "      <td>0</td>\n",
       "    </tr>\n",
       "    <tr>\n",
       "      <th>7604</th>\n",
       "      <td>1.0</td>\n",
       "      <td>0.0</td>\n",
       "      <td>cunnin001jef</td>\n",
       "      <td>0</td>\n",
       "    </tr>\n",
       "    <tr>\n",
       "      <th>14839</th>\n",
       "      <td>1.0</td>\n",
       "      <td>0.0</td>\n",
       "      <td>hayes001dar</td>\n",
       "      <td>0</td>\n",
       "    </tr>\n",
       "    <tr>\n",
       "      <th>33549</th>\n",
       "      <td>1.0</td>\n",
       "      <td>0.0</td>\n",
       "      <td>tatfor001jef</td>\n",
       "      <td>0</td>\n",
       "    </tr>\n",
       "    <tr>\n",
       "      <th>16622</th>\n",
       "      <td>1.0</td>\n",
       "      <td>0.0</td>\n",
       "      <td>jaso001joh</td>\n",
       "      <td>1</td>\n",
       "    </tr>\n",
       "    <tr>\n",
       "      <th>7182</th>\n",
       "      <td>1.0</td>\n",
       "      <td>0.0</td>\n",
       "      <td>cowan001jus</td>\n",
       "      <td>0</td>\n",
       "    </tr>\n",
       "    <tr>\n",
       "      <th>4822</th>\n",
       "      <td>1.0</td>\n",
       "      <td>0.0</td>\n",
       "      <td>campos002jes</td>\n",
       "      <td>0</td>\n",
       "    </tr>\n",
       "    <tr>\n",
       "      <th>4842</th>\n",
       "      <td>1.0</td>\n",
       "      <td>0.0</td>\n",
       "      <td>cancel001dav</td>\n",
       "      <td>0</td>\n",
       "    </tr>\n",
       "  </tbody>\n",
       "</table>\n",
       "<p>2137 rows × 4 columns</p>\n",
       "</div>"
      ],
      "text/plain": [
       "         0    1            id  truth\n",
       "24157  0.0  1.0  navarr001dio      1\n",
       "21303  0.0  1.0  mathis001jef      1\n",
       "8445   0.0  1.0  delluc001dav      1\n",
       "19610  0.0  1.0  lockwo001mic      0\n",
       "5231   0.0  1.0  caruso001mic      1\n",
       "33427  0.0  1.0  swishe001nic      1\n",
       "6145   0.0  1.0  cirill001jef      1\n",
       "19746  0.0  1.0  longor001eva      1\n",
       "1344   0.0  1.0  aubrey001rob      1\n",
       "20407  0.0  1.0   magee001wen      1\n",
       "35966  0.0  1.0  watkin003wil      1\n",
       "14535  0.0  1.0  harris001bre      1\n",
       "15424  0.0  1.0  higgin003rob      1\n",
       "14677  0.0  1.0  hartma001ron      0\n",
       "18305  0.0  1.0  kottar001geo      1\n",
       "18579  0.0  1.0    lamb001mic      1\n",
       "21073  0.1  0.9  martin005jul      1\n",
       "2216   0.1  0.9    belk001tim      1\n",
       "1765   0.1  0.9  barfie001jos      1\n",
       "12450  0.1  0.9  giavot001joh      1\n",
       "12456  0.1  0.9  gibbon001jay      1\n",
       "13710  0.1  0.9  guerre001wil      1\n",
       "26228  0.1  0.9   perez001dan      1\n",
       "17719  0.1  0.9    kemp001mat      1\n",
       "27573  0.1  0.9    rahl001chr      0\n",
       "14769  0.1  0.9  haverb001kev      0\n",
       "18796  0.1  0.9  larocc001gre      1\n",
       "36046  0.1  0.9    webb001don      0\n",
       "13029  0.1  0.9  gonzal004ale      1\n",
       "28643  0.1  0.9  rivera003jua      1\n",
       "5987   0.1  0.9  cholow001dan      0\n",
       "18167  0.1  0.9   knott001jon      1\n",
       "3411   0.1  0.9    boyd001sha      0\n",
       "8707   0.1  0.9   dewey001jas      0\n",
       "5176   0.1  0.9  carter001ver      1\n",
       "17276  0.1  0.9   jones005lar      1\n",
       "15704  0.1  0.9  hollid001mat      1\n",
       "26490  0.1  0.9  peters001bry      1\n",
       "4434   0.1  0.9  butler001bil      1\n",
       "19402  0.1  0.9  lillib001bre      1\n",
       "1005   0.1  0.9  antone001mat      1\n",
       "1098   0.1  0.9   arcia001osw      1\n",
       "26605  0.1  0.9  philli001bra      1\n",
       "17523  0.1  0.9  kapler001gab      1\n",
       "16745  0.1  0.9   jeter001der      1\n",
       "15442  0.1  0.9    hill001aar      1\n",
       "34225  0.1  0.9  tomlin001jam      0\n",
       "866    0.1  0.9  anders002lar      1\n",
       "32954  0.1  0.9   still001jon      0\n",
       "4013   0.1  0.9   bruce001jay      1\n",
       "...    ...  ...           ...    ...\n",
       "28204  1.0  0.0  reynol001lag      0\n",
       "22929  1.0  0.0  mitche001tod      0\n",
       "33286  1.0  0.0   suomi001joh      0\n",
       "20801  1.0  0.0   marsh001jas      0\n",
       "8404   1.0  0.0  deleon003san      0\n",
       "7633   1.0  0.0  curran001chr      0\n",
       "4569   1.0  0.0  cabrer001leo      0\n",
       "7691   1.0  0.0  curtis007joh      0\n",
       "25190  1.0  0.0  orloff001ben      0\n",
       "4987   1.0  0.0   carey001tim      0\n",
       "14015  1.0  0.0   haase001jef      0\n",
       "22328  1.0  0.0   mende001sam      0\n",
       "13954  1.0  0.0  guzman003fra      0\n",
       "11054  1.0  0.0  flores004jes      1\n",
       "1215   1.0  0.0  arntze001bri      0\n",
       "24990  1.0  0.0  ohearn001bra      0\n",
       "23815  1.0  0.0  mullin001jac      0\n",
       "32580  1.0  0.0  spatol001joh      0\n",
       "14103  1.0  0.0  halema001jos      0\n",
       "36478  1.0  0.0   wiese001bri      0\n",
       "3148   1.0  0.0  booker001kev      0\n",
       "19756  1.0  0.0  loomis001geo      0\n",
       "36444  1.0  0.0  whitta001tim      0\n",
       "8594   1.0  0.0  depast001jos      1\n",
       "8947   1.0  0.0  dipace002dan      0\n",
       "34796  1.0  0.0   unrat001chr      0\n",
       "35389  1.0  0.0   vidal001car      0\n",
       "29865  1.0  0.0  rumfie001jus      0\n",
       "12331  1.0  0.0  geisle001phi      0\n",
       "14555  1.0  0.0  harris001dem      0\n",
       "4714   1.0  0.0  camare001jos      0\n",
       "6812   1.0  0.0    cook005jos      0\n",
       "9100   1.0  0.0  donald001rho      0\n",
       "22606  1.0  0.0   meyer001tra      0\n",
       "10079  1.0  0.0  espada001ang      0\n",
       "9070   1.0  0.0  domini001and      1\n",
       "18066  1.0  0.0   kison001rob      0\n",
       "13464  1.0  0.0  gresha001kri      0\n",
       "1816   1.0  0.0  barnes001ave      0\n",
       "24687  1.0  0.0  norris001sha      0\n",
       "12426  1.0  0.0  gholst001ric      0\n",
       "9104   1.0  0.0  donati001joh      0\n",
       "29093  1.0  0.0  rodrig002and      0\n",
       "7604   1.0  0.0  cunnin001jef      0\n",
       "14839  1.0  0.0   hayes001dar      0\n",
       "33549  1.0  0.0  tatfor001jef      0\n",
       "16622  1.0  0.0    jaso001joh      1\n",
       "7182   1.0  0.0   cowan001jus      0\n",
       "4822   1.0  0.0  campos002jes      0\n",
       "4842   1.0  0.0  cancel001dav      0\n",
       "\n",
       "[2137 rows x 4 columns]"
      ]
     },
     "execution_count": 141,
     "metadata": {},
     "output_type": "execute_result"
    }
   ],
   "source": [
    "pred_proba_df = pd.DataFrame(pred_proba_rf1,index = X1_test.index)\n",
    "pred_proba_df['id'] = X1_test['milb_id']\n",
    "pred_proba_df['truth'] = y1_test\n",
    "pred_proba_df.sort_values(1,ascending = False)"
   ]
  },
  {
   "cell_type": "code",
   "execution_count": 29,
   "metadata": {
    "collapsed": true
   },
   "outputs": [],
   "source": [
    "# 'CREATE TABLE IF NOT EXISTS BatterSeasons (\n",
    "#     Year int DEFAULT NULL,\n",
    "#     Age int DEFAULT NULL,\n",
    "#     AgeDif float DEFAULT NULL,\n",
    "#     G int DEFAULT NULL,\n",
    "#     PA int DEFAULT NULL,\n",
    "#     AB int DEFAULT NULL,\n",
    "#     R int DEFAULT NULL,\n",
    "#     H int DEFAULT NULL,\n",
    "#     2B int DEFAULT NULL,\n",
    "#     3B int DEFAULT NULL,\n",
    "#     HR int DEFAULT NULL,\n",
    "#     RBI int DEFAULT NULL,\n",
    "#     SB int DEFAULT NULL,\n",
    "#     CS int DEFAULT NULL,\n",
    "#     BB int DEFAULT NULL,\n",
    "#     SO int DEFAULT NULL,\n",
    "#     BA float DEFAULT NULL,\n",
    "#     OBP float DEFAULT NULL,\n",
    "#     SLG float DEFAULT NULL,\n",
    "#     OPS float DEFAULT NULL,\n",
    "#     TB int DEFAULT NULL,\n",
    "#     GDP int DEFAULT NULL,\n",
    "#     HBP int DEFAULT NULL,\n",
    "#     SH int DEFAULT NULL,\n",
    "#     SF int DEFAULT NULL,\n",
    "#     IBB int DEFAULT NULL,\n",
    "#     Tm varchar(20) NOT NULL,\n",
    "#     Lg varchar(20) NOT NULL,\n",
    "#     Lev varchar(20) NOT NULL,\n",
    "#     Aff varchar(20) NOT NULL,\n",
    "#     mlb_id varchar(20) NOT NULL,\n",
    "#     milb_id varchar(20) NOT NULL],\n",
    "#     playerID varchar(20) NOT NULL,\n",
    "#     yearID int NOT NULL,\n",
    "#     gameNum varchar(20) NOT NULL,\n",
    "#     gameID varchar(12) DEFAULT NULL,\n",
    "#     teamID text DEFAULT NULL,\n",
    "#     lgID text DEFAULT NULL,\n",
    "#     GP varchar(20) DEFAULT NULL,\n",
    "#     startingPos varchar(20) DEFAULT NULL,\n",
    "#     PRIMARY KEY (playerID,yearID,gameNum)\n",
    "# );'"
   ]
  }
 ],
 "metadata": {
  "kernelspec": {
   "display_name": "Python 3",
   "language": "python",
   "name": "python3"
  },
  "language_info": {
   "codemirror_mode": {
    "name": "ipython",
    "version": 3
   },
   "file_extension": ".py",
   "mimetype": "text/x-python",
   "name": "python",
   "nbconvert_exporter": "python",
   "pygments_lexer": "ipython3",
   "version": "3.6.1"
  }
 },
 "nbformat": 4,
 "nbformat_minor": 2
}
