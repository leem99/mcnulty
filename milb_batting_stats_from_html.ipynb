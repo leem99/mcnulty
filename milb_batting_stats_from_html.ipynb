{
 "cells": [
  {
   "cell_type": "markdown",
   "metadata": {},
   "source": [
    "### Extract stats from milb player pages"
   ]
  },
  {
   "cell_type": "code",
   "execution_count": 615,
   "metadata": {
    "collapsed": true
   },
   "outputs": [],
   "source": [
    "import requests\n",
    "from bs4 import BeautifulSoup\n",
    "from fake_useragent import UserAgent\n",
    "import pandas as pd\n",
    "import numpy as np\n",
    "import os\n",
    "import csv\n",
    "import re\n",
    "from collections import OrderedDict"
   ]
  },
  {
   "cell_type": "markdown",
   "metadata": {},
   "source": [
    "### Functions For Getting Data From Header"
   ]
  },
  {
   "cell_type": "markdown",
   "metadata": {},
   "source": [
    "Helper Functions"
   ]
  },
  {
   "cell_type": "code",
   "execution_count": 653,
   "metadata": {},
   "outputs": [],
   "source": [
    "def make_height(h_str):\n",
    "    temp_height = list(map(float,(h_str.split('-'))))\n",
    "    height = temp_height[0]*12 + temp_height[1]\n",
    "    return height"
   ]
  },
  {
   "cell_type": "code",
   "execution_count": 654,
   "metadata": {
    "collapsed": true
   },
   "outputs": [],
   "source": [
    "def add_position_info(summary_dict):\n",
    "    position_tags = ['first','second','third','shortstop','catcher','outfielder']\n",
    "    positions =  summary_dict['positions'].lower()\n",
    "\n",
    "    for t in position_tags:\n",
    "        if t in positions:\n",
    "            summary_dict[t] = 1\n",
    "        else:\n",
    "            summary_dict[t] = 0\n",
    "\n",
    "    return summary_dict"
   ]
  },
  {
   "cell_type": "code",
   "execution_count": 734,
   "metadata": {},
   "outputs": [],
   "source": [
    "def add_mlb_war(summary_dict,player_summary_soup):\n",
    "    # Determine if the player made the majors\n",
    "    debuts_check = player_summary_soup.find_all('a',href=re.compile(\"debuts\"))\n",
    "    if debuts_check:\n",
    "        debut_date = float(debuts_check[0]['href'].split('/')[-1][0:4])\n",
    "        debut = 1\n",
    "\n",
    "        # BBREF Key can be found in this section\n",
    "        debut_link = debuts_check[0].find_next('a')['href']\n",
    "        mlb_id = (re.search(r\"id=(.*)&\", debut_link)).group(1)\n",
    "\n",
    "        # Find Career War\n",
    "        career_table = player_summary_soup.find('div',class_='p1')\n",
    "        try: \n",
    "            float(career_table.find('p').next_sibling.next_sibling.string)\n",
    "        except AttributeError:\n",
    "            war = float(career_table.find('p').string)\n",
    "        else:\n",
    "            war = float(career_table.find('p').next_sibling.next_sibling.string)\n",
    "    else:\n",
    "        debut = 0\n",
    "        mlb_id = 'none'\n",
    "        war = np.nan\n",
    "\n",
    "\n",
    "    summary_dict['war'] = war\n",
    "    summary_dict['mlb'] = debut\n",
    "    summary_dict['mlb_id'] = mlb_id\n",
    "    summary_dict['milb_id'] = html_files[ix].replace('.html','')\n",
    "    \n",
    "    return summary_dict\n",
    "    "
   ]
  },
  {
   "cell_type": "markdown",
   "metadata": {},
   "source": [
    "Main Fucntion"
   ]
  },
  {
   "cell_type": "code",
   "execution_count": 735,
   "metadata": {
    "collapsed": true
   },
   "outputs": [],
   "source": [
    "def make_summary_dict(player_summary_soup):\n",
    "\n",
    "    summary_dict = dict()\n",
    "    # Get whether player made MLB and total WAR\n",
    "    summary_dict = add_mlb_war(summary_dict,player_summary_soup)\n",
    "    \n",
    "    strongs = player_summary_soup.find_all('strong')\n",
    "\n",
    "    for su in strongs:\n",
    "        if 'Position' in su.text:\n",
    "            summary_dict['positions'] = re.sub(\n",
    "                '\\n','',su.next_element.next_element).strip()\n",
    "        if 'Bats' in su.text:\n",
    "            b_string = su.next_element.next_element\n",
    "            if 'Right' in b_string:\n",
    "                summary_dict['bats'] = 'right'\n",
    "            elif 'Left' in b_string:\n",
    "                summary_dict['bats'] = 'left'\n",
    "            elif 'Both'in b_string:\n",
    "                summary_dict['bats'] = 'both'\n",
    "        if 'Throws' in su.text:\n",
    "            t_string = su.next_element.next_element\n",
    "            if 'Right' in t_string:\n",
    "                summary_dict['throws'] = 'right'\n",
    "            else:\n",
    "                summary_dict['throws'] = 'left'\n",
    "        if 'Draft' in su.text:\n",
    "            summary_dict['draft'] = player_summary_soup.find_all(\n",
    "                'a',href=re.compile('draft_round'))[-1].string\n",
    "            summary_dict['draft'] = float(re.sub('[^0-9]','',summary_dict['draft']))\n",
    "\n",
    "    spans = player_summary_soup.find_all('span')\n",
    "\n",
    "    for sp in spans:\n",
    "        # Height\n",
    "        try:\n",
    "            sp.attrs['itemprop']\n",
    "        except:\n",
    "            KeyError\n",
    "        else:\n",
    "            if sp.attrs['itemprop'] == 'height':\n",
    "                summary_dict['height'] = make_height(sp.text)\n",
    "\n",
    "        # Weight\n",
    "        try:\n",
    "            sp.attrs['itemprop'] == 'weight'\n",
    "        except:\n",
    "            KeyError\n",
    "        else:\n",
    "            if sp.attrs['itemprop'] == 'weight':\n",
    "                summary_dict['weight'] = float(re.sub(r'[^0-9]','',sp.text))\n",
    "\n",
    "        # Add not Drafted\n",
    "        try:\n",
    "            summary_dict['draft']\n",
    "        except:\n",
    "            KeyError\n",
    "            summary_dict['draft'] = np.nan\n",
    "\n",
    "    summary_dict = add_position_info(summary_dict)\n",
    "    \n",
    "    return summary_dict        "
   ]
  },
  {
   "cell_type": "markdown",
   "metadata": {},
   "source": [
    "Function for making player summary sorted"
   ]
  },
  {
   "cell_type": "code",
   "execution_count": 736,
   "metadata": {
    "collapsed": true
   },
   "outputs": [],
   "source": [
    "def make_summary_dict_sorted(summary_dict):\n",
    "\n",
    "    queue = ['milb_id','mlb_id','mlb','war','draft','bats','throws','height','weight',\n",
    "             'positions','first','second','third','shortstop','catcher','outfielder']\n",
    "\n",
    "    summary_dict_sorted = OrderedDict()\n",
    "    for k in queue:\n",
    "        summary_dict_sorted[k] = summary_dict[k]\n",
    "\n",
    "    return summary_dict_sorted\n"
   ]
  },
  {
   "cell_type": "markdown",
   "metadata": {},
   "source": [
    "### Batting Table Creation and Cleaning"
   ]
  },
  {
   "cell_type": "code",
   "execution_count": 737,
   "metadata": {},
   "outputs": [],
   "source": [
    "def make_standard_batting(batter_page):\n",
    "\n",
    "    batter_standard_data = batter_page.find('table',class_='sortable stats_table')\n",
    "\n",
    "    header_name_list = []\n",
    "    # Populate a list containing column headers\n",
    "    header_html = batter_standard_data.find('tr')\n",
    "    for item in header_html.find_all('th'):\n",
    "        header_name_list.append(item.text.strip())\n",
    "\n",
    "    data_html = batter_standard_data.find_all('tr')\n",
    "    data_list = []\n",
    "    for ix, row in enumerate(data_html):\n",
    "        temp_list = []\n",
    "        \n",
    "        try:\n",
    "            re.search('[a-zA-Z]',row.find('th').string)\n",
    "        except TypeError:\n",
    "            break\n",
    "        else:\n",
    "        \n",
    "            if ix >0:\n",
    "                if re.search('[a-zA-Z]',row.find('th').string):\n",
    "                    break\n",
    "                else:\n",
    "                    #print(row.find('th').text.strip())\n",
    "                    temp_year = row.find('th').text.strip()\n",
    "                    temp_year = re.sub('\\-.*$','',temp_year)\n",
    "                    temp_list.append(temp_year)\n",
    "                    for item in row.find_all('td'):\n",
    "                        temp_list.append(item.text.strip())\n",
    "                    data_list.append(temp_list)\n",
    "\n",
    "    batting_df = pd.DataFrame(data_list,columns=header_name_list)\n",
    "    \n",
    "    return batting_df"
   ]
  },
  {
   "cell_type": "code",
   "execution_count": 738,
   "metadata": {
    "collapsed": true
   },
   "outputs": [],
   "source": [
    "def clean_batter_df(df):\n",
    "    numeric_fields = ['Year', 'Age','AgeDif', 'G', 'PA', 'AB', 'R', 'H', '2B', '3B', 'HR',\\\n",
    "                      'RBI', 'SB', 'CS', 'BB', 'SO', 'BA', 'OBP', 'SLG', 'OPS', \\\n",
    "                      'TB','GDP', 'HBP', 'SH', 'SF', 'IBB']\n",
    "\n",
    "    text_fields = ['Tm', 'Lg','Lev','Aff']\n",
    "    df_clean = pd.DataFrame()\n",
    "    \n",
    "    for nf in numeric_fields:\n",
    "        df_clean[nf] = pd.to_numeric(df[nf])\n",
    "    \n",
    "    for tf in text_fields:\n",
    "        df_clean[tf] = df[tf]\n",
    "    \n",
    "    return df_clean"
   ]
  },
  {
   "cell_type": "markdown",
   "metadata": {},
   "source": [
    "## Loop through Player Files"
   ]
  },
  {
   "cell_type": "code",
   "execution_count": 775,
   "metadata": {
    "collapsed": true
   },
   "outputs": [],
   "source": [
    "fpath = 'milb_player_pages/'\n",
    "html_files = os.listdir('milb_player_pages')\n",
    "out_path = 'milb_batter_files/'"
   ]
  },
  {
   "cell_type": "code",
   "execution_count": 787,
   "metadata": {},
   "outputs": [
    {
     "name": "stdout",
     "output_type": "stream",
     "text": [
      "0\n",
      "1\n",
      "2\n"
     ]
    }
   ],
   "source": [
    "with open('milb_batter_summaries.csv', 'w') as csvfile:  # Just use 'w' mode in 3.x\n",
    "\n",
    "    \n",
    "    fieldnames = ['milb_id','mlb_id','mlb','war','draft','bats','throws','height','weight',\n",
    "             'positions','first','second','third','shortstop','catcher','outfielder']\n",
    "    \n",
    "    writer = csv.DictWriter(csvfile, fieldnames=fieldnames)\n",
    "    writer.writeheader()   \n",
    "\n",
    "    for ix, fi in enumerate(html_files[0:3]):\n",
    "        html_f = open(fpath + fi,'r')\n",
    "\n",
    "        page = html_f.read()\n",
    "        batter_page = BeautifulSoup(page,\"lxml\")\n",
    "\n",
    "        html_f.close()\n",
    "        # Find Header Data\n",
    "        player_summary_soup = batter_page.find('div', {'id':'info'})\n",
    "\n",
    "\n",
    "        summary_dict = make_summary_dict(player_summary_soup)\n",
    "        if 'Pitcher' not in summary_dict['positions']:\n",
    "            summary_dict = make_summary_dict_sorted(summary_dict)\n",
    "            #Season By Season Stats\n",
    "            batter_df = make_standard_batting(batter_page)    \n",
    "            batter_df_cleaned = clean_batter_df(batter_df)\n",
    "\n",
    "            batter_df_cleaned['mlb_id'] = summary_dict['mlb_id']\n",
    "            batter_df_cleaned['milb_id'] = summary_dict['milb_id']\n",
    "            \n",
    "\n",
    "            # if player made major leagues, use that ID for file name\n",
    "            if summary_dict['mlb'] == 1:\n",
    "                batter_df_cleaned.to_csv(\n",
    "                    out_path +summary_dict['mlb_id'] +'.csv' )\n",
    "            else:\n",
    "                batter_df_cleaned.to_csv(\n",
    "                    out_path +summary_dict['milb_id'] +'.csv' )\n",
    "                \n",
    "            # Write to summary file\n",
    "            writer.writerow(summary_dict)\n",
    "            \n",
    "        print(ix)\n",
    "        \n",
    "    csvfile.close()\n",
    "    "
   ]
  },
  {
   "cell_type": "code",
   "execution_count": null,
   "metadata": {},
   "outputs": [],
   "source": []
  }
 ],
 "metadata": {
  "kernelspec": {
   "display_name": "Python 3",
   "language": "python",
   "name": "python3"
  },
  "language_info": {
   "codemirror_mode": {
    "name": "ipython",
    "version": 3
   },
   "file_extension": ".py",
   "mimetype": "text/x-python",
   "name": "python",
   "nbconvert_exporter": "python",
   "pygments_lexer": "ipython3",
   "version": "3.6.1"
  }
 },
 "nbformat": 4,
 "nbformat_minor": 2
}
